{
  "nbformat": 4,
  "nbformat_minor": 0,
  "metadata": {
    "colab": {
      "name": "PDI_Examen_Parcial_2020_2.ipynb",
      "provenance": [],
      "collapsed_sections": [],
      "include_colab_link": true
    },
    "kernelspec": {
      "name": "python3",
      "display_name": "Python 3"
    }
  },
  "cells": [
    {
      "cell_type": "markdown",
      "metadata": {
        "id": "view-in-github",
        "colab_type": "text"
      },
      "source": [
        "<a href=\"https://colab.research.google.com/github/Carhuacusma/PDI_Examen_Parcial/blob/main/PDI_Examen_Parcial_2020_2.ipynb\" target=\"_parent\"><img src=\"https://colab.research.google.com/assets/colab-badge.svg\" alt=\"Open In Colab\"/></a>"
      ]
    },
    {
      "cell_type": "markdown",
      "metadata": {
        "id": "peNv8JLDkSHF"
      },
      "source": [
        "# Procesamiento Digital de Imágenes - Examen Parcial"
      ]
    },
    {
      "cell_type": "markdown",
      "metadata": {
        "id": "QWNjYh93k-Rw"
      },
      "source": [
        "## Instrucciones\n",
        "\n",
        "1.\tEl examen consta de 1 pregunta y tendrá 24 horas para resolverla en equipos de tres integrantes (en caso de sobrar uno o dos alumnos pueden crearse, máximo dos equipos de 2 integrantes).\n",
        "2.\tEl trabajo será entregado hasta las 7:59:59 am del sábado 10 de octubre. En seguida habrá una exposición, máximo 10 minutos por grupo, de los grupos de trabajo de 8 a 10 am.\n",
        "3.\tEl examen cuenta con un docente académico, el cual estará conectado durante los primeros 20 minutos del examen.\n",
        "4.\tLas dudas conceptuales sobre el examen han de presentarse dentro de los primeros 20 minutos mediante un correo al profesor GONZALEZ VALENZUELA, RICARDO EUGENIO a pcsirgon@upc.edu.pe.\n",
        "5.\tLos inconvenientes técnicos pueden presentarse a pasado los primeros 20 minutos, puede comunicarlo al profesor GONZALEZ VALENZUELA, RICARDO EUGENIO a pcsirgon@upc.edu.pe.\n",
        "6.\tEl profesor en mención solo recibirá correos provenientes de las cuentas UPC, de ninguna manera se recibirán correos de cuentas públicas. \n",
        "7.\tAnte problemas técnicos, debe de forma obligatoria adjuntar evidencias del mismo, como capturas de pantalla, videos, fotos, etc. Siendo requisito fundamental que, en cada evidencia se pueda apreciar claramente la fecha y hora del sistema operativo del computador donde el alumno está rindiendo el examen. \n",
        "8.\tLos correos sobre problemas técnicos se recibirán hasta 15 minutos luego de culminado el examen.\n"
      ]
    },
    {
      "cell_type": "markdown",
      "metadata": {
        "id": "77aKbY1YFl3g"
      },
      "source": [
        "## Integrantes\n",
        "\n",
        "*   Alumno 1: <font color='green'> u2018 - Joaquín Adrián Galván Díaz</font><br>\n",
        "*   Alumno 2: <font color='green'> u201818067 - Dante Brandon Moreno Carhuacusma</font><br>"
      ]
    },
    {
      "cell_type": "markdown",
      "metadata": {
        "id": "vLrugUgnlIMN"
      },
      "source": [
        "## Caso de Estudio - Reconocimiento óptico de caracteres (Optical character recognition - OCR)\n",
        "\n",
        "1. Tome diversas fotografías de hojas en blanco con texto (no hay problema si el texto de una hoja es del mismo tamaño, fuente y color).\n",
        "\n",
        "2. La hoja puede aparecer girada pero no distorsionada (i.e.: la hoja en la fotografia debe aparecer rectangular posible, sin distorsiones de esquinas). Sin embargo, puede aparecer rotada.\n",
        "\n",
        "3. Aplicando diversas técnicas de procesamiento digital de imágenes, transcribir el texto de las imagenes.\n"
      ]
    },
    {
      "cell_type": "markdown",
      "metadata": {
        "id": "EIvisRJOJgJ_"
      },
      "source": [
        "## Resolución"
      ]
    },
    {
      "cell_type": "markdown",
      "metadata": {
        "id": "r02P9REKJkS1"
      },
      "source": [
        "### Metodología"
      ]
    },
    {
      "cell_type": "markdown",
      "metadata": {
        "id": "fYL90_sGsXQv"
      },
      "source": [
        "<font color='green'>Aquí **enumere** y **explique** los pasos de su metodología </font>"
      ]
    },
    {
      "cell_type": "code",
      "metadata": {
        "id": "h61cIiHhtu19"
      },
      "source": [
        ""
      ],
      "execution_count": null,
      "outputs": []
    },
    {
      "cell_type": "markdown",
      "metadata": {
        "id": "tvNvTKIFJvwQ"
      },
      "source": [
        "### Implementación"
      ]
    },
    {
      "cell_type": "code",
      "metadata": {
        "id": "LQoyq0_GJ5aB"
      },
      "source": [
        "# Implemente aqui la solución propuesta en su metodología (sientase libre de usar mas celdas de código si lo requiere)\n",
        "import cv2\n",
        "import numpy as np\n",
        "import pandas as pd"
      ],
      "execution_count": null,
      "outputs": []
    },
    {
      "cell_type": "code",
      "metadata": {
        "id": "MBhrQwuwKYO5"
      },
      "source": [
        ""
      ],
      "execution_count": null,
      "outputs": []
    },
    {
      "cell_type": "markdown",
      "metadata": {
        "id": "pH7A73FhJ51o"
      },
      "source": [
        "### Resultados y Discusión"
      ]
    },
    {
      "cell_type": "markdown",
      "metadata": {
        "id": "LWS0I-GXJ57i"
      },
      "source": [
        "<font color='green'> Discuta los **varios resultados obtenidos** por la selección de **diversos parámetros seleccionados** </font>"
      ]
    },
    {
      "cell_type": "markdown",
      "metadata": {
        "id": "jEyQ2THGJ6BA"
      },
      "source": [
        "### Conclusiones"
      ]
    },
    {
      "cell_type": "markdown",
      "metadata": {
        "id": "rNOKEOoRJ6Ep"
      },
      "source": [
        "<font color='green'> Redacte, al menos, **5 conclusiones relevantes** referentes a como cubrió su objetivo y que le ayudó a optimizar sus resutlados. </font>"
      ]
    }
  ]
}